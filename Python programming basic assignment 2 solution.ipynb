{
 "cells": [
  {
   "cell_type": "markdown",
   "id": "d2b05a64",
   "metadata": {},
   "source": [
    "### Q 1. Write a Python program to convert kilometers to miles?"
   ]
  },
  {
   "cell_type": "code",
   "execution_count": 32,
   "id": "4159542d",
   "metadata": {},
   "outputs": [
    {
     "name": "stdout",
     "output_type": "stream",
     "text": [
      "113 km is equal to 70.21481 miles.\n"
     ]
    }
   ],
   "source": [
    "# 1 kilometer equals to 0.62137 miles.\n",
    "km = 113\n",
    "conv_factor = 0.62137\n",
    "\n",
    "mi = km * conv_factor\n",
    "\n",
    "print(km,'km is equal to', mi, 'miles.')"
   ]
  },
  {
   "cell_type": "markdown",
   "id": "29db3f5f",
   "metadata": {},
   "source": [
    "### Q 2. Write a Python program to convert Celsius to Fahrenheit?"
   ]
  },
  {
   "cell_type": "code",
   "execution_count": 5,
   "id": "9b363157",
   "metadata": {},
   "outputs": [
    {
     "name": "stdout",
     "output_type": "stream",
     "text": [
      "25 celsius is equal to 77.0 fahrenheit.\n"
     ]
    }
   ],
   "source": [
    "# conversion formula: fahrenheit = (celsius * 9/5) + 32\n",
    "\n",
    "celsius = 25\n",
    "conv_factor = (celsius * 9/5) + 32\n",
    "\n",
    "fahrenheit = conv_factor\n",
    "\n",
    "print(celsius, 'celsius is equal to', fahrenheit, 'fahrenheit.')\n"
   ]
  },
  {
   "cell_type": "markdown",
   "id": "ded6ef85",
   "metadata": {},
   "source": [
    "### Q 3. Write a Python program to display calendar?"
   ]
  },
  {
   "cell_type": "code",
   "execution_count": 11,
   "id": "b115de06",
   "metadata": {},
   "outputs": [
    {
     "name": "stdout",
     "output_type": "stream",
     "text": [
      "                                  2022\n",
      "\n",
      "      January                   February                   March\n",
      "Mo Tu We Th Fr Sa Su      Mo Tu We Th Fr Sa Su      Mo Tu We Th Fr Sa Su\n",
      "                1  2          1  2  3  4  5  6          1  2  3  4  5  6\n",
      " 3  4  5  6  7  8  9       7  8  9 10 11 12 13       7  8  9 10 11 12 13\n",
      "10 11 12 13 14 15 16      14 15 16 17 18 19 20      14 15 16 17 18 19 20\n",
      "17 18 19 20 21 22 23      21 22 23 24 25 26 27      21 22 23 24 25 26 27\n",
      "24 25 26 27 28 29 30      28                        28 29 30 31\n",
      "31\n",
      "\n",
      "       April                      May                       June\n",
      "Mo Tu We Th Fr Sa Su      Mo Tu We Th Fr Sa Su      Mo Tu We Th Fr Sa Su\n",
      "             1  2  3                         1             1  2  3  4  5\n",
      " 4  5  6  7  8  9 10       2  3  4  5  6  7  8       6  7  8  9 10 11 12\n",
      "11 12 13 14 15 16 17       9 10 11 12 13 14 15      13 14 15 16 17 18 19\n",
      "18 19 20 21 22 23 24      16 17 18 19 20 21 22      20 21 22 23 24 25 26\n",
      "25 26 27 28 29 30         23 24 25 26 27 28 29      27 28 29 30\n",
      "                          30 31\n",
      "\n",
      "        July                     August                  September\n",
      "Mo Tu We Th Fr Sa Su      Mo Tu We Th Fr Sa Su      Mo Tu We Th Fr Sa Su\n",
      "             1  2  3       1  2  3  4  5  6  7                1  2  3  4\n",
      " 4  5  6  7  8  9 10       8  9 10 11 12 13 14       5  6  7  8  9 10 11\n",
      "11 12 13 14 15 16 17      15 16 17 18 19 20 21      12 13 14 15 16 17 18\n",
      "18 19 20 21 22 23 24      22 23 24 25 26 27 28      19 20 21 22 23 24 25\n",
      "25 26 27 28 29 30 31      29 30 31                  26 27 28 29 30\n",
      "\n",
      "      October                   November                  December\n",
      "Mo Tu We Th Fr Sa Su      Mo Tu We Th Fr Sa Su      Mo Tu We Th Fr Sa Su\n",
      "                1  2          1  2  3  4  5  6                1  2  3  4\n",
      " 3  4  5  6  7  8  9       7  8  9 10 11 12 13       5  6  7  8  9 10 11\n",
      "10 11 12 13 14 15 16      14 15 16 17 18 19 20      12 13 14 15 16 17 18\n",
      "17 18 19 20 21 22 23      21 22 23 24 25 26 27      19 20 21 22 23 24 25\n",
      "24 25 26 27 28 29 30      28 29 30                  26 27 28 29 30 31\n",
      "31\n",
      "\n"
     ]
    }
   ],
   "source": [
    "import calendar\n",
    "\n",
    "year = 2022\n",
    "\n",
    "print(calendar.calendar(year))\n"
   ]
  },
  {
   "cell_type": "markdown",
   "id": "16dadd8a",
   "metadata": {},
   "source": [
    "### Q 4. Write a Python program to solve quadratic equation?"
   ]
  },
  {
   "cell_type": "code",
   "execution_count": 24,
   "id": "cba3d61e",
   "metadata": {},
   "outputs": [
    {
     "name": "stdout",
     "output_type": "stream",
     "text": [
      "Enter the value of a: 2\n",
      "Enter the value of b: 3\n",
      "Enter the value of c: -2\n",
      "The roots are  (0.5+0j) (-2+0j) .\n"
     ]
    }
   ],
   "source": [
    "# importing complex math module\n",
    "\n",
    "import cmath\n",
    "\n",
    "a = float(input('Enter the value of a: '))\n",
    "b = float(input('Enter the value of b: '))\n",
    "c = float(input('Enter the value of c: '))\n",
    "\n",
    "# calculating discriminant\n",
    "\n",
    "dis = (b**2) - (4*a*c)\n",
    "\n",
    "# finding roots of the quadratic equation\n",
    "\n",
    "root1 = (-b + cmath.sqrt(dis))/ (2*a)\n",
    "root2 = (-b - cmath.sqrt(dis))/ (2*a)\n",
    "\n",
    "# printing results\n",
    "\n",
    "print('The roots are ' , root1, root2,'.')"
   ]
  },
  {
   "cell_type": "markdown",
   "id": "7f900421",
   "metadata": {},
   "source": [
    "### Q 5. Write a Python program to swap two variables without temp variable?"
   ]
  },
  {
   "cell_type": "code",
   "execution_count": 28,
   "id": "ff1ecfaa",
   "metadata": {},
   "outputs": [
    {
     "name": "stdout",
     "output_type": "stream",
     "text": [
      "The value of x is 100\n",
      "The value of y is 29\n"
     ]
    }
   ],
   "source": [
    "x = 29\n",
    "y = 100\n",
    "\n",
    "x, y = y, x\n",
    "\n",
    "print('The value of x is', x)\n",
    "print('The value of y is', y)"
   ]
  },
  {
   "cell_type": "code",
   "execution_count": null,
   "id": "b761d7af",
   "metadata": {},
   "outputs": [],
   "source": []
  }
 ],
 "metadata": {
  "kernelspec": {
   "display_name": "Python 3",
   "language": "python",
   "name": "python3"
  },
  "language_info": {
   "codemirror_mode": {
    "name": "ipython",
    "version": 3
   },
   "file_extension": ".py",
   "mimetype": "text/x-python",
   "name": "python",
   "nbconvert_exporter": "python",
   "pygments_lexer": "ipython3",
   "version": "3.8.8"
  }
 },
 "nbformat": 4,
 "nbformat_minor": 5
}
